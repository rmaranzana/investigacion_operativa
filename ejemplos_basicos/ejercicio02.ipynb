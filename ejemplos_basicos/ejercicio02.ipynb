{
 "cells": [
  {
   "cell_type": "code",
   "execution_count": 1,
   "metadata": {},
   "outputs": [
    {
     "name": "stdout",
     "output_type": "stream",
     "text": [
      "Optimal\n",
      "x = 600.00\n",
      "y = 300.00\n",
      "3900.0\n"
     ]
    }
   ],
   "source": [
    "import pulp\n",
    "\n",
    "lp = pulp.LpProblem(\"ejercicio02\", pulp.LpMaximize)\n",
    "\n",
    "# Variables:\n",
    "x = pulp.LpVariable('x', lowBound=0, cat='Continuous')\n",
    "y = pulp.LpVariable('y', lowBound=0, cat='Continuous')\n",
    "\n",
    "# Función objetivo:\n",
    "lp += 5*x + 3*y, \"Z\"\n",
    "\n",
    "# Restricciones\n",
    "lp += 3*x + 2*y <= 2400\n",
    "lp +=         y <=  800\n",
    "lp += 2*x       <= 1200\n",
    "\n",
    "lp.solve()\n",
    "print(pulp.LpStatus[lp.status])\n",
    "\n",
    "for variable in lp.variables():\n",
    "    print(\"%s = %.2f\" % (variable.name, variable.varValue))\n",
    "    \n",
    "print(pulp.value(lp.objective))"
   ]
  }
 ],
 "metadata": {
  "kernelspec": {
   "display_name": "Python 3",
   "language": "python",
   "name": "python3"
  },
  "language_info": {
   "codemirror_mode": {
    "name": "ipython",
    "version": 3
   },
   "file_extension": ".py",
   "mimetype": "text/x-python",
   "name": "python",
   "nbconvert_exporter": "python",
   "pygments_lexer": "ipython3",
   "version": "3.6.1"
  }
 },
 "nbformat": 4,
 "nbformat_minor": 2
}
