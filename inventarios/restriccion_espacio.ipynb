{
 "cells": [
  {
   "cell_type": "markdown",
   "metadata": {},
   "source": [
    "# Multi-ítem con restricción de espacio\n",
    "Se tienen 'm' ítems con restricción de volumen total 'S'. Es decir, los ítems compiten por ocupar un espacio finito.\n",
    "El modelo que respresenta esta situación es el siguiente:\n",
    "\n",
    "$ min \\quad CTE(q_1, q_2, ..., q_m)$\n",
    "\n",
    "$ s.t.$\n",
    "\n",
    "$ \\quad q_1s_1 + q_2s_2 + ... + q_ms_m \\leq S $"
   ]
  },
  {
   "cell_type": "code",
   "execution_count": 64,
   "metadata": {},
   "outputs": [],
   "source": [
    "import math\n",
    "import numpy as np\n",
    "import matplotlib.pyplot as plt"
   ]
  },
  {
   "cell_type": "code",
   "execution_count": 65,
   "metadata": {},
   "outputs": [],
   "source": [
    "# Cantidad óptima:\n",
    "def calcular_qopt(K, D, T, c1, s_i, lmbd):\n",
    "    return math.sqrt((2 * K * D) / (T * c1 + 2 * lmbd *s_i))\n",
    "\n",
    "# Restricción:\n",
    "def calcular_g(vect_s, vect_q, S):\n",
    "    return vect_s @ vect_q - S\n",
    "\n",
    "def calcular_f_i(b_i, d_i, q_i, c1_i, t, k_i):\n",
    "    return b_i * d_i + 0.5 * q_i * c1_i * t + k_i * (d_i / q_i)\n",
    "\n",
    "# Objetivo primal:\n",
    "def calcular_f(vect_b, vect_d, vect_q, vect_c1, t, vect_k):\n",
    "    # Vectorizar la funcion:\n",
    "    calcular_f_i_vectorizada =  np.vectorize(calcular_f_i)\n",
    "    \n",
    "    # Calcularmos f_i con la función vectorizada, mismos inputs que calcular_f_i pero en vectores con todos los valores.\n",
    "    vector_f_i = calcular_f_i_vectorizada(vect_b, vect_d, vect_q, vect_c1, t, vect_k)\n",
    "    \n",
    "    # Nos devuelve un vector con cada f_i que tenemos que sumar y retornar:\n",
    "    return np.sum(vector_f_i)\n",
    "\n",
    "# Lagrangiano:\n",
    "def calcular_L(f_q, g_q, lmbd):\n",
    "    return f_q - lmbd * g_q"
   ]
  },
  {
   "cell_type": "code",
   "execution_count": 66,
   "metadata": {},
   "outputs": [],
   "source": [
    "# Ejemplo:\n",
    "S = 90\n",
    "\n",
    "diasmes = 30\n",
    "t = 1 # período de análisis\n",
    "interes = 0.1 # anual\n",
    "\n",
    "# Datos producto 1:\n",
    "b_1 = 30 #costo por producto\n",
    "alquiler_1 = 30 # diario\n",
    "compra_1 = 100 # unidad \n",
    "calidadrecepcion_1 = 200 # pedido\n",
    "demanda_1 = 3000 # por año\n",
    "k_1 = calidadrecepcion_1 + compra_1 # costo de orden\n",
    "d_1 = demanda_1 # demanda\n",
    "c1_1 = b_1 * interes + (alquiler_1 * diasmes * 12) # costo unitario\n",
    "s_1 = 10\n",
    "\n",
    "# Datos producto 2:\n",
    "b_2 = 40 #costo por producto\n",
    "alquiler_2 = 40 # diario\n",
    "compra_2 = 150 # unidad \n",
    "calidadrecepcion_2 = 250 # pedido\n",
    "demanda_2 = 4300 # por año\n",
    "k_2 = calidadrecepcion_2 + compra_2 # costo de orden\n",
    "d_2 = demanda_2 # demanda\n",
    "c1_2 = b_2 * interes + (alquiler_2 * diasmes * 12) # costo unitario\n",
    "s_2 = 15"
   ]
  },
  {
   "cell_type": "code",
   "execution_count": 67,
   "metadata": {},
   "outputs": [],
   "source": [
    "lmbds = np.array(range(0, 2000, 5))\n",
    "L = np.zeros(lmbds.shape)\n",
    "\n",
    "for i, lmbd_i in enumerate(lmbds):\n",
    "    # Cálculo de cada cantidad óptima:\n",
    "    q1_opt = calcular_qopt(k_1, d_1, t, c1_1, s_1, lmbd_i)\n",
    "    q2_opt = calcular_qopt(k_2, d_2, t, c1_2, s_2, lmbd_i)\n",
    "\n",
    "    # Construcción de arrays para cáclulo matricial en g:\n",
    "    vect_q_opt = np.array([q1_opt, q2_opt])\n",
    "    vect_s = np.array([s_1, s_2])\n",
    "    # Construcción de arrays para cáclulo vectorizado en f:\n",
    "    vect_b = np.array([b_1, b_2])\n",
    "    vect_d = np.array([d_1, d_2])\n",
    "    vect_c1 = np.array([c1_1, c1_2])\n",
    "    vect_k = np.array([k_1, k_2])\n",
    "\n",
    "    # Cálculo de g y f:\n",
    "    g = calcular_g(vect_q_opt, vect_s, S)\n",
    "    f = calcular_f(vect_b, vect_d, vect_q_opt, vect_c1, t, vect_k)\n",
    "\n",
    "    # Cálculo del lagrangiano:\n",
    "    L[i] = calcular_L(f, g, lmbd_i)"
   ]
  },
  {
   "cell_type": "code",
   "execution_count": 68,
   "metadata": {},
   "outputs": [
    {
     "data": {
      "image/png": "[encoded data removed]",
      "text/plain": [
       "<matplotlib.figure.Figure at 0x242285b8908>"
      ]
     },
     "metadata": {
      "needs_background": "light"
     },
     "output_type": "display_data"
    }
   ],
   "source": [
    "# Subplots:\n",
    "\n",
    "fig, ax = plt.subplots(figsize=(10,7))\n",
    "\n",
    "ax.plot(lmbds, L, 'm--', label='Lagrangiano respecto de cada $\\lambda$')\n",
    "\n",
    "ax.set_xlabel('$\\lambda$')\n",
    "ax.set_ylabel('Lagrangiano')\n",
    "\n",
    "plt.show()"
   ]
  }
 ],
 "metadata": {
  "kernelspec": {
   "display_name": "Python 3",
   "language": "python",
   "name": "python3"
  },
  "language_info": {
   "codemirror_mode": {
    "name": "ipython",
    "version": 3
   },
   "file_extension": ".py",
   "mimetype": "text/x-python",
   "name": "python",
   "nbconvert_exporter": "python",
   "pygments_lexer": "ipython3",
   "version": "3.6.1"
  }
 },
 "nbformat": 4,
 "nbformat_minor": 2
}
