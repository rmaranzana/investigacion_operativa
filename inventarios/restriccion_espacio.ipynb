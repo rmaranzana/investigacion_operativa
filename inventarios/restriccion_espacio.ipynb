{
 "cells": [
  {
   "cell_type": "markdown",
   "metadata": {},
   "source": [
    "# Multi-ítem con restricción de espacio\n",
    "\n",
    "## Introducción:\n",
    "Se tienen 'm' ítems con restricción de volumen total 'S'. Es decir, los ítems compiten por ocupar un espacio finito.\n",
    "El modelo que respresenta esta situación es el siguiente:\n",
    "\n",
    "$ min_{q_i} \\quad Z = CTE(q_1, q_2, ..., q_m)$\n",
    "\n",
    "$ s.t.$\n",
    "\n",
    "$ \\quad q_1s_1 + q_2s_2 + ... + q_ms_m \\leq S $\n",
    "\n",
    "Se decide aplicar el método de relajación de Lagrange para resolver múltiples problemas más simples, y encontrar el óptimo entre todos ellos. Cada problema estará afectado por un multiplicador de Lagrange $\\lambda$.\n",
    "\n",
    "Siendo:\n",
    "\n",
    "$f = CTE(q_1, q_2, ..., q_m)$\n",
    "\n",
    "$g = (q_1s_1 + q_2s_2 + ... + q_ms_m - S)$\n",
    "\n",
    "El modelo relajado será el siguiente:\n",
    "\n",
    "$ L(\\lambda) = min_{q_i} \\quad Z_{relax} = f + \\lambda g $\n",
    "\n",
    "Como decíamos antes, existe un lambda para cada problema relajado. No todos los $\\lambda$ arrojan resultados válidos, ya que este multiplicador penaliza la violación de la restricción que ahora forma parte de la función objetivo. La idea es encontrar el $\\lambda$ que optimice la función primal cumpliendo con la región factible.\n",
    "\n",
    "El problema original es cuadrático, pero es fácilmente demostrable que es convexo y por lo tanto cuenta con un óptimo global.\n",
    "\n",
    "Se busca un $\\lambda$ que maximice el $L$, teniendo en cuenta que debe minimizarse respecto a la cantidad, es decir, buscar la cantidad óptima.\n",
    "\n",
    "Por lo tanto: \n",
    "\n",
    "$max_{\\lambda} \\ L(\\lambda)$\n",
    "\n",
    "$L(\\lambda) = min_{q_i} \\ Z_{relax}$\n",
    "\n",
    "$Z_{relax} = f + \\lambda g $\n",
    "\n",
    "El modelo anterior, expresado en una línea sería: $max_{\\lambda} min_{q_i} f + \\lambda g $"
   ]
  },
  {
   "cell_type": "markdown",
   "metadata": {},
   "source": [
    "## Aplicación en Python:\n",
    "Inicializamos la librerías necesarias y cargamos las funciones asociadas a las expresiones introducidas en el apartado anterior.\n",
    "\n",
    "En el caso de $g$ elegimos hacer producto matricial con el operador '@' que es el dot product. En python estas operaciones son mucho mas rápidas que el clásico for loop.\n",
    "\n",
    "Para el $f$, a modo didáctico, explicamos cómo vectorizar una función. Obviamente, tanto $g$ como $f$ podrían hacerse con for loop y, a pesar de la pérdida de rendimiento, en estos ejemplos introductorios no se podría percibir la diferencia. Se hace de esta forma para poder mostrar una manera diferente y práctica de encarar soluciones con python."
   ]
  },
  {
   "cell_type": "code",
   "execution_count": 85,
   "metadata": {},
   "outputs": [],
   "source": [
    "import math\n",
    "import numpy as np\n",
    "import matplotlib.pyplot as plt"
   ]
  },
  {
   "cell_type": "code",
   "execution_count": 86,
   "metadata": {},
   "outputs": [],
   "source": [
    "# Cantidad óptima:\n",
    "def calcular_qopt(K, D, T, c1, s_i, lmbd):\n",
    "    return math.sqrt((2 * K * D) / (T * c1 + 2 * lmbd *s_i))\n",
    "\n",
    "# Restricción:\n",
    "def calcular_g(vect_s, vect_q, S):\n",
    "    return vect_s @ vect_q - S\n",
    "\n",
    "def calcular_f_i(b_i, d_i, q_i, c1_i, t, k_i):\n",
    "    return b_i * d_i + 0.5 * q_i * c1_i * t + k_i * (d_i / q_i)\n",
    "\n",
    "# Objetivo primal:\n",
    "def calcular_f(vect_b, vect_d, vect_q, vect_c1, t, vect_k):\n",
    "    # Vectorizar la funcion:\n",
    "    calcular_f_i_vectorizada =  np.vectorize(calcular_f_i)\n",
    "    \n",
    "    # Calcularmos f_i con la función vectorizada, mismos inputs que calcular_f_i pero \n",
    "    # en vectores con todos los valores.\n",
    "    vector_f_i = calcular_f_i_vectorizada(vect_b, vect_d, vect_q, vect_c1, t, vect_k)\n",
    "    \n",
    "    # Nos devuelve un vector con cada f_i que tenemos que sumar y retornar:\n",
    "    return np.sum(vector_f_i)\n",
    "\n",
    "# Lagrangiano:\n",
    "def calcular_L(f_q, g_q, lmbd):\n",
    "    return f_q + lmbd * g_q"
   ]
  },
  {
   "cell_type": "markdown",
   "metadata": {},
   "source": [
    "## Ejemplo\n",
    "El siguiente ejemplo considera dos productos simples. Puede fácilmente extenderse a $n$ productos sin hacer mayores cambios."
   ]
  },
  {
   "cell_type": "code",
   "execution_count": 87,
   "metadata": {},
   "outputs": [],
   "source": [
    "# Ejemplo:\n",
    "S = 150\n",
    "\n",
    "diasmes = 30\n",
    "t = 1 # período de análisis\n",
    "interes = 0.1 # anual\n",
    "\n",
    "# Datos producto 1:\n",
    "b_1 = 30 #costo por producto\n",
    "alquiler_1 = 30 # diario\n",
    "compra_1 = 100 # unidad \n",
    "calidadrecepcion_1 = 200 # pedido\n",
    "demanda_1 = 3000 # por año\n",
    "k_1 = calidadrecepcion_1 + compra_1 # costo de orden\n",
    "d_1 = demanda_1 # demanda\n",
    "c1_1 = b_1 * interes + (alquiler_1 * diasmes * 12) # costo unitario\n",
    "s_1 = 10\n",
    "\n",
    "# Datos producto 2:\n",
    "b_2 = 40 #costo por producto\n",
    "alquiler_2 = 40 # diario\n",
    "compra_2 = 150 # unidad \n",
    "calidadrecepcion_2 = 250 # pedido\n",
    "demanda_2 = 4300 # por año\n",
    "k_2 = calidadrecepcion_2 + compra_2 # costo de orden\n",
    "d_2 = demanda_2 # demanda\n",
    "c1_2 = b_2 * interes + (alquiler_2 * diasmes * 12) # costo unitario\n",
    "s_2 = 15\n",
    "\n",
    "# Construcción de vectores de datos:\n",
    "vect_s = np.array([s_1, s_2])\n",
    "vect_b = np.array([b_1, b_2])\n",
    "vect_d = np.array([d_1, d_2])\n",
    "vect_c1 = np.array([c1_1, c1_2])\n",
    "vect_k = np.array([k_1, k_2])"
   ]
  },
  {
   "cell_type": "markdown",
   "metadata": {},
   "source": [
    "### Resolución para un conjunto de lambdas a fuerza bruta\n",
    "Creamos un array de lambdas equidistantes, vamos a resolver múltiples $L(\\lambda)$ para cada \\lambda. De todos ellos vamos a seleccionar el mayor, que refiere al mínimo del modelo primal para el lambda que hace cumplir la restricción.\n",
    "\n",
    "En un for loop, iteramos en cada \\lambda y resolvemos: cantidad óptima y $L(\\lambda)$."
   ]
  },
  {
   "cell_type": "code",
   "execution_count": 88,
   "metadata": {},
   "outputs": [
    {
     "name": "stdout",
     "output_type": "stream",
     "text": [
      "RESULTADOS:\n",
      "El lambda óptimo es: 2400.00\n",
      "Las cantidades óptimas son: 5.53, 6.31\n",
      "El CTE óptimo es: 772591.03\n"
     ]
    }
   ],
   "source": [
    "lmbds = np.array(range(0, 6000, 10))\n",
    "L = np.zeros(lmbds.shape)\n",
    "\n",
    "for i, lmbd_i in enumerate(lmbds):\n",
    "    # Cálculo de cada cantidad óptima:\n",
    "    q1_opt = calcular_qopt(k_1, d_1, t, c1_1, s_1, lmbd_i)\n",
    "    q2_opt = calcular_qopt(k_2, d_2, t, c1_2, s_2, lmbd_i)\n",
    "\n",
    "    # Construcción de arrays de q:\n",
    "    vect_q_opt = np.array([q1_opt, q2_opt])\n",
    "\n",
    "    # Cálculo de g y f:\n",
    "    g = calcular_g(vect_q_opt, vect_s, S)\n",
    "    f = calcular_f(vect_b, vect_d, vect_q_opt, vect_c1, t, vect_k)\n",
    "\n",
    "    # Cálculo del lagrangiano:\n",
    "    L[i] = calcular_L(f, g, lmbd_i)\n",
    "    \n",
    "# Máximo:\n",
    "max_index = np.argmax(L)\n",
    "L_max = L[max_index]\n",
    "lmbd_max = lmbds[max_index]\n",
    "\n",
    "# Resultados:\n",
    "print('RESULTADOS:')\n",
    "print(f'El lambda óptimo es: {lmbd_max:.2f}')\n",
    "\n",
    "q1_opt = calcular_qopt(k_1, d_1, t, c1_1, s_1, lmbd_max)\n",
    "q2_opt = calcular_qopt(k_2, d_2, t, c1_2, s_2, lmbd_max)\n",
    "vect_q_opt = np.array([q1_opt, q2_opt])\n",
    "print(f'Las cantidades óptimas son: {q1_opt:.2f}, {q2_opt:.2f}')\n",
    "\n",
    "f = calcular_f(vect_b, vect_d, vect_q_opt, vect_c1, t, vect_k)\n",
    "print(f'El CTE óptimo es: {f:.2f}')"
   ]
  },
  {
   "cell_type": "markdown",
   "metadata": {},
   "source": [
    "Se procede a plotear los resultados en una curva que muestra $L$ en función de $\\lambda$. Marcamos el punto de cantidad óptima."
   ]
  },
  {
   "cell_type": "code",
   "execution_count": 89,
   "metadata": {},
   "outputs": [
    {
     "data": {
      "image/png": "[encoded data removed]",
      "text/plain": [
       "<matplotlib.figure.Figure at 0x2cb62059da0>"
      ]
     },
     "metadata": {
      "needs_background": "light"
     },
     "output_type": "display_data"
    }
   ],
   "source": [
    "# Subplots:\n",
    "\n",
    "fig, ax = plt.subplots(figsize=(10,7))\n",
    "\n",
    "ax.plot(lmbds, L, 'm--', label='Lagrangiano respecto de cada $\\lambda$')\n",
    "\n",
    "ax.set_xlabel('$\\lambda$')\n",
    "ax.set_ylabel('Lagrangiano')\n",
    "\n",
    "ax.plot(lmbd_max, L_max, 'r', marker='o') # punto óptimo\n",
    "ax.plot([0, lmbd_max], [L_max, L_max], 'k:')\n",
    "ax.plot([lmbd_max, lmbd_max], [L_max*(1-0.2), L_max], 'k:')\n",
    "ax.annotate(f'({lmbd_max:.2f}, {L_max:.2f})', (lmbd_max*(1+0.1), L_max*(1-0.1)))\n",
    "\n",
    "plt.show()"
   ]
  },
  {
   "cell_type": "markdown",
   "metadata": {},
   "source": [
    "### Método del gradiente para buscar $\\lambda$\n",
    "\n",
    "Se evita buscar el multiplicador de manera forzosa. Para lograr este objetivo, elegimos aplicar el método del gradiente en su forma más simple, es decir, teniendo en cuenta muchas suposiciones y un paso de búsqueda constante.\n",
    "\n",
    "Sabemos que el problema tiene un sólo óptimo global en un espacio de búsqueda convexo. A partir de un punto inicial de búsqueda, vamos a dirigirnos en la dirección del gradiente respecto de \\lambda del Lagrangiano $L(\\lambda)$ para actualizar sucesivos valores de \\lambda. Una vez que dos valores de $\\lambda$ consecutivos no muestren cambios, el procedimiento finaliza.\n",
    "\n",
    "El algoritmo sería el siguiente:\n",
    "\n",
    "- Inicializar $\\lambda$. Dado que habíamos encontrado un valor parcial de lambda anteriormente, usamos uno cercano para iniciar la búsqueda. Esto igualmente, no es obligatorio.\n",
    "- Calcular el valor del Lagrangiano dado el $\\lambda$ actual.\n",
    "- Calcular el gradiente del Lagrangiano $ \\nabla{L(\\lambda)}$. Resulta ser el mismo valor que $g$\n",
    "- Actualizar el valor de $\\lambda$ para la próxima iteración: $\\lambda_{i+1} = \\lambda_i + step * \\nabla{L(\\lambda)}$\n",
    "- Calculamos la diferencia entre lambdas sucesivos: $\\Delta \\lambda = | \\lambda_{i+1} - \\lambda_{i} |$\n",
    "- Si la diferencia es menor que una tolerancia dada, cortamos el algoritmo.\n",
    "\n",
    "En este caso la función de búsqueda es diferenciable, por lo tanto podríamos omitir la tolerancia e ir a buscar una diferencia de \\lambda sucesivos igual a cero. Sin embargo, es preferible tener controlado el corte y no depender de una convergencia que puede resultar muy larga.\n",
    "\n",
    "*Nota: En caso de no ser diferenciable la función, el método puede aplicarse igual, pero en este caso se calcula el Subgradiente. Es el mismo procedimiento pero el gradiente es válido en cada trozo de la función. No pueden encontrarse diferencias de \\lambda iguales a cero y debe controlarse una tolerancia.*"
   ]
  },
  {
   "cell_type": "code",
   "execution_count": 90,
   "metadata": {},
   "outputs": [
    {
     "name": "stdout",
     "output_type": "stream",
     "text": [
      "RESULTADOS:\n",
      "El lambda óptimo es: 2398.94\n",
      "Las cantidades óptimas son: 5.53, 6.31\n",
      "El CTE óptimo es: 772524.68\n"
     ]
    }
   ],
   "source": [
    "def gradiente_L(vect_s, vect_q, S):\n",
    "    return vect_s @ vect_q - S\n",
    "\n",
    "lmbd_0 = 0\n",
    "step = 10 # paso fijo, sólo funciona en estos casos simples. Referirse a \"métodos de paso adaptativo\"\n",
    "tol = 10e-3\n",
    "i = 0\n",
    "lmbd_i = lmbd_0\n",
    "lmbd_array = []\n",
    "L = []\n",
    "diff = np.inf\n",
    "\n",
    "while diff > tol:\n",
    "    # Cálculo de cada cantidad óptima:\n",
    "    q1_opt = calcular_qopt(k_1, d_1, t, c1_1, s_1, lmbd_i)\n",
    "    q2_opt = calcular_qopt(k_2, d_2, t, c1_2, s_2, lmbd_i)\n",
    "\n",
    "    # Construcción de arrays de q:\n",
    "    vect_q_opt = np.array([q1_opt, q2_opt])\n",
    "\n",
    "    # Cálculo de g y f:\n",
    "    g = calcular_g(vect_q_opt, vect_s, S)\n",
    "    f = calcular_f(vect_b, vect_d, vect_q_opt, vect_c1, t, vect_k)\n",
    "\n",
    "    # Cálculo del lagrangiano:\n",
    "    L.append(calcular_L(f, g, lmbd_i))\n",
    "    \n",
    "    # Nuevo lambda:\n",
    "    lmbd_old = lmbd_i\n",
    "    lmbd_array.append(lmbd_old)\n",
    "    lmbd_i = max(lmbd_i + step * gradiente_L(vect_q_opt, vect_s, S), 0) # lambda positivo\n",
    "    \n",
    "    # Chequeo de convergencia:\n",
    "    diff = abs(lmbd_i - lmbd_old)\n",
    "    \n",
    "    i+=1\n",
    "    \n",
    "# Resultados:\n",
    "print('RESULTADOS:')\n",
    "print(f'El lambda óptimo es: {lmbd_i:.2f}')\n",
    "print(f'Las cantidades óptimas son: {q1_opt:.2f}, {q2_opt:.2f}')\n",
    "print(f'El CTE óptimo es: {f:.2f}')\n"
   ]
  },
  {
   "cell_type": "markdown",
   "metadata": {},
   "source": [
    "Ploteamos los sucesivos $\\lambda$ respecto del número de iteraciones."
   ]
  },
  {
   "cell_type": "code",
   "execution_count": 91,
   "metadata": {},
   "outputs": [
    {
     "data": {
      "image/png": "[encoded data removed]",
      "text/plain": [
       "<matplotlib.figure.Figure at 0x2cb614eecc0>"
      ]
     },
     "metadata": {
      "needs_background": "light"
     },
     "output_type": "display_data"
    }
   ],
   "source": [
    "fig, ax = plt.subplots(figsize=(10,7))\n",
    "\n",
    "ax.plot(range(0, i), lmbd_array, 'b', label='Lagrangiano respecto de cada $\\lambda$')\n",
    "\n",
    "ax.set_xlabel('$iteración$')\n",
    "ax.set_ylabel('$\\lambda$')\n",
    "ax.plot([0, i], [lmbd_i, lmbd_i], 'k:')\n",
    "ax.annotate(f'(iteración: {i:.2f}, $\\lambda *$: {lmbd_i:.2f})', (i-30, lmbd_i+1))\n",
    "\n",
    "plt.show()"
   ]
  }
 ],
 "metadata": {
  "kernelspec": {
   "display_name": "Python 3",
   "language": "python",
   "name": "python3"
  },
  "language_info": {
   "codemirror_mode": {
    "name": "ipython",
    "version": 3
   },
   "file_extension": ".py",
   "mimetype": "text/x-python",
   "name": "python",
   "nbconvert_exporter": "python",
   "pygments_lexer": "ipython3",
   "version": "3.6.1"
  }
 },
 "nbformat": 4,
 "nbformat_minor": 2
}
