{
 "cells": [
  {
   "cell_type": "markdown",
   "metadata": {},
   "source": [
    "# Método SIMPLEX"
   ]
  },
  {
   "cell_type": "code",
   "execution_count": 210,
   "metadata": {},
   "outputs": [
    {
     "data": {
      "text/html": [
       "        <script type=\"text/javascript\">\n",
       "        window.PlotlyConfig = {MathJaxConfig: 'local'};\n",
       "        if (window.MathJax) {MathJax.Hub.Config({SVG: {font: \"STIX-Web\"}});}\n",
       "        if (typeof require !== 'undefined') {\n",
       "        require.undef(\"plotly\");\n",
       "        requirejs.config({\n",
       "            paths: {\n",
       "                'plotly': ['https://cdn.plot.ly/plotly-latest.min']\n",
       "            }\n",
       "        });\n",
       "        require(['plotly'], function(Plotly) {\n",
       "            window._Plotly = Plotly;\n",
       "        });\n",
       "        }\n",
       "        </script>\n",
       "        "
      ]
     },
     "metadata": {},
     "output_type": "display_data"
    }
   ],
   "source": [
    "from plotly import graph_objs as go\n",
    "import plotly.offline as py\n",
    "py.init_notebook_mode(connected=True)\n",
    "import numpy as np"
   ]
  },
  {
   "cell_type": "code",
   "execution_count": 211,
   "metadata": {},
   "outputs": [],
   "source": [
    "# Calcular zj:\n",
    "def calcular_zj(c, base, A):\n",
    "    return np.dot(c[base], A)\n",
    "\n",
    "# Calcular zj-cj:\n",
    "def calcular_zj_cj(zj, c):\n",
    "     return zj - c\n",
    "\n",
    "# Calcular zj-cj mínimo:\n",
    "def minimo_zj_cj(zj_cj):\n",
    "    return np.argmin(zj_cj)\n",
    "\n",
    "# Calcular bk/Aij\n",
    "def calcular_bk_Aij(bk, A, min_zjcj):\n",
    "    return bk / A[:, min_zjcj]\n",
    "\n",
    "# Buscar posición min bk_aij\n",
    "def minimo_bk_Aij(bk_Aij):\n",
    "    return np.argmin(bk_Aij) \n",
    "\n",
    "# Calcular costo total:\n",
    "def calcular_costo_tot(c, base, bk):\n",
    "    return np.dot(c[base], bk)"
   ]
  },
  {
   "cell_type": "code",
   "execution_count": 236,
   "metadata": {},
   "outputs": [],
   "source": [
    "def visualizar_tabla(variables, base, cj, bk, Aij, zj, zj_cj, bk_aij, costo_total):\n",
    "    Aij_t = list(map(list, zip(*Aij))) # Transponer\n",
    "    \n",
    "    # Construir columnas:\n",
    "    header_values = ['', '', '$C_j$'] + cj\n",
    "    col_i = ['$C_j base$'] + [cj[i] for i in base] + [''] + [costo_total]\n",
    "    col_ii = ['$Var. Base$'] + [variables[i] for i in base]\n",
    "    col_iii = ['$B_k$'] + bk + ['$z_j$', '$z_j - c_j$']\n",
    "    rest_cols = [[variables[i]] + col + [zj[i]] + [zj_cj[i]] for i, col in enumerate(Aij_t)]\n",
    "    \n",
    "    cells_values = [col_i, col_ii, col_iii] + rest_cols + [['$Bk/A_{ij}$'] + bk_aij]\n",
    "    \n",
    "    # Construir y printear tabla:\n",
    "    layout = go.Layout(margin=go.layout.Margin(l=25, r=25, b=0, t=25, pad=2), \n",
    "                       autosize=True)\n",
    "    fig = go.Figure(data=[go.Table(header=dict(values=header_values),\n",
    "                                   cells=dict(values=cells_values))],\n",
    "                    layout=layout)\n",
    "    \n",
    "    fig.show()"
   ]
  },
  {
   "cell_type": "code",
   "execution_count": 237,
   "metadata": {},
   "outputs": [],
   "source": [
    "# Input:\n",
    "variables = ['$X_1$', '$X_2$', '$X_3$', '$X_4$', '$X_5$']\n",
    "\n",
    "c = np.array([4, 4, 0, 0, 0]) # Coeficientes de funcion objetivo\n",
    "\n",
    "A = np.array([[ 6, 12,  1,  0,  0],\n",
    "              [12,  6,  0,  1,  0],\n",
    "              [ 9,  9,  0,  0,  1]]) # Coeficientes tecnológicos\n",
    "\n",
    "b = np.array([48000, 42000, 36000]) # Término LHS\n",
    "\n",
    "base = [2, 3, 4]\n",
    "\n",
    "iteraciones_simplex = 2\n"
   ]
  },
  {
   "cell_type": "code",
   "execution_count": 238,
   "metadata": {},
   "outputs": [
    {
     "data": {
      "application/vnd.plotly.v1+json": {
       "config": {
        "plotlyServerURL": "https://plot.ly"
       },
       "data": [
        {
         "cells": {
          "values": [
           [
            "$C_j base$",
            0,
            0,
            0,
            "",
            0
           ],
           [
            "$Var. Base$",
            "$X_3$",
            "$X_4$",
            "$X_5$"
           ],
           [
            "$B_k$",
            48000,
            42000,
            36000,
            "$z_j$",
            "$z_j - c_j$"
           ],
           [
            "$X_1$",
            6,
            12,
            9,
            0,
            -4
           ],
           [
            "$X_2$",
            12,
            6,
            9,
            0,
            -4
           ],
           [
            "$X_3$",
            1,
            0,
            0,
            0,
            0
           ],
           [
            "$X_4$",
            0,
            1,
            0,
            0,
            0
           ],
           [
            "$X_5$",
            0,
            0,
            1,
            0,
            0
           ],
           [
            "$Bk/A_{ij}$",
            8000,
            3500,
            4000
           ]
          ]
         },
         "header": {
          "values": [
           "",
           "",
           "$C_j$",
           4,
           4,
           0,
           0,
           0
          ]
         },
         "type": "table",
         "uid": "b4bf9ffd-0467-4078-bbcf-cdb95142e94d"
        }
       ],
       "layout": {
        "autosize": true,
        "margin": {
         "b": 0,
         "l": 25,
         "pad": 2,
         "r": 25,
         "t": 25
        }
       }
      },
      "text/html": [
       "<div>\n",
       "        \n",
       "        \n",
       "            <div id=\"9322a966-9aef-4b61-9aba-160f31ad2c10\" class=\"plotly-graph-div\" style=\"height:525px; width:100%;\"></div>\n",
       "            <script type=\"text/javascript\">\n",
       "                require([\"plotly\"], function(Plotly) {\n",
       "                    window.PLOTLYENV=window.PLOTLYENV || {};\n",
       "                    window.PLOTLYENV.BASE_URL='https://plot.ly';\n",
       "                    \n",
       "                if (document.getElementById(\"9322a966-9aef-4b61-9aba-160f31ad2c10\")) {\n",
       "                    Plotly.newPlot(\n",
       "                        '9322a966-9aef-4b61-9aba-160f31ad2c10',\n",
       "                        [{\"cells\": {\"values\": [[\"$C_j base$\", 0, 0, 0, \"\", 0], [\"$Var. Base$\", \"$X_3$\", \"$X_4$\", \"$X_5$\"], [\"$B_k$\", 48000, 42000, 36000, \"$z_j$\", \"$z_j - c_j$\"], [\"$X_1$\", 6, 12, 9, 0, -4], [\"$X_2$\", 12, 6, 9, 0, -4], [\"$X_3$\", 1, 0, 0, 0, 0], [\"$X_4$\", 0, 1, 0, 0, 0], [\"$X_5$\", 0, 0, 1, 0, 0], [\"$Bk/A_{ij}$\", 8000.0, 3500.0, 4000.0]]}, \"header\": {\"values\": [\"\", \"\", \"$C_j$\", 4, 4, 0, 0, 0]}, \"type\": \"table\", \"uid\": \"b4bf9ffd-0467-4078-bbcf-cdb95142e94d\"}],\n",
       "                        {\"autosize\": true, \"margin\": {\"b\": 0, \"l\": 25, \"pad\": 2, \"r\": 25, \"t\": 25}},\n",
       "                        {\"plotlyServerURL\": \"https://plot.ly\", \"responsive\": true}\n",
       "                    ).then(function(){\n",
       "                            \n",
       "var gd = document.getElementById('9322a966-9aef-4b61-9aba-160f31ad2c10');\n",
       "var x = new MutationObserver(function (mutations, observer) {{\n",
       "        var display = window.getComputedStyle(gd).display;\n",
       "        if (!display || display === 'none') {{\n",
       "            console.log([gd, 'removed!']);\n",
       "            Plotly.purge(gd);\n",
       "            observer.disconnect();\n",
       "        }}\n",
       "}});\n",
       "\n",
       "// Listen for the removal of the full notebook cells\n",
       "var notebookContainer = gd.closest('#notebook-container');\n",
       "if (notebookContainer) {{\n",
       "    x.observe(notebookContainer, {childList: true});\n",
       "}}\n",
       "\n",
       "// Listen for the clearing of the current output cell\n",
       "var outputEl = gd.closest('.output');\n",
       "if (outputEl) {{\n",
       "    x.observe(outputEl, {childList: true});\n",
       "}}\n",
       "\n",
       "                        })\n",
       "                };\n",
       "                });\n",
       "            </script>\n",
       "        </div>"
      ]
     },
     "metadata": {},
     "output_type": "display_data"
    }
   ],
   "source": [
    "# Primera iteración:\n",
    "zj = calcular_zj(c, base, A)\n",
    "\n",
    "zj_cj = calcular_zj_cj(zj, c)\n",
    "\n",
    "min_zjcj = minimo_zj_cj(zj_cj)\n",
    "\n",
    "bk_Aij = calcular_bk_Aij(bk, A, min_zjcj)\n",
    "\n",
    "min_b = minimo_bk_Aij(bk_Aij)\n",
    "\n",
    "costo_tot = calcular_costo_tot(c, base, bk)\n",
    "\n",
    "# Hacer print de la tabla:\n",
    "visualizar_tabla(variables, \n",
    "                 base, \n",
    "                 c.tolist(), \n",
    "                 b.tolist(),\n",
    "                 A.tolist(),\n",
    "                 zj.tolist(),\n",
    "                 zj_cj.tolist(),\n",
    "                 bk_Aij.tolist(),\n",
    "                 costo_tot)\n"
   ]
  },
  {
   "cell_type": "code",
   "execution_count": 216,
   "metadata": {},
   "outputs": [
    {
     "name": "stdout",
     "output_type": "stream",
     "text": [
      "Iteración 1\n"
     ]
    },
    {
     "name": "stderr",
     "output_type": "stream",
     "text": [
      "c:\\users\\m_a_r\\appdata\\local\\programs\\python\\python36\\lib\\site-packages\\ipykernel_launcher.py:15: RuntimeWarning:\n",
      "\n",
      "divide by zero encountered in true_divide\n",
      "\n"
     ]
    },
    {
     "data": {
      "application/vnd.plotly.v1+json": {
       "config": {
        "plotlyServerURL": "https://plot.ly"
       },
       "data": [
        {
         "cells": {
          "values": [
           [
            "$C_j base$",
            0,
            4,
            0,
            "",
            14000
           ],
           [
            "$Var. Base$",
            "$X_3$",
            "$X_2$",
            "$X_5$"
           ],
           [
            "$B_k$",
            -36000,
            3500,
            -27000,
            "$z_j$",
            "$z_j - c_j$"
           ],
           [
            "$X_1$",
            -18,
            1,
            -9,
            4,
            0
           ],
           [
            "$X_2$",
            0,
            0.5,
            0,
            2,
            -2
           ],
           [
            "$X_3$",
            1,
            0,
            0,
            0,
            0
           ],
           [
            "$X_4$",
            -2,
            0.08333333333333333,
            -1.5,
            0.3333333333333333,
            0.3333333333333333
           ],
           [
            "$X_5$",
            0,
            0,
            1,
            0,
            0
           ],
           [
            "$Bk/A_{ij}$",
            null,
            7000,
            null
           ]
          ]
         },
         "header": {
          "values": [
           "",
           "",
           "$C_j$",
           4,
           4,
           0,
           0,
           0
          ]
         },
         "type": "table",
         "uid": "f68b0fe9-074b-44f7-ae99-e0163d9b3351"
        }
       ],
       "layout": {
        "margin": {
         "b": 25,
         "l": 25,
         "pad": 2,
         "r": 25,
         "t": 25
        }
       }
      },
      "text/html": [
       "<div>\n",
       "        \n",
       "        \n",
       "            <div id=\"db24401f-80f2-4cf1-ad3a-423c95f215ad\" class=\"plotly-graph-div\" style=\"height:525px; width:100%;\"></div>\n",
       "            <script type=\"text/javascript\">\n",
       "                require([\"plotly\"], function(Plotly) {\n",
       "                    window.PLOTLYENV=window.PLOTLYENV || {};\n",
       "                    window.PLOTLYENV.BASE_URL='https://plot.ly';\n",
       "                    \n",
       "                if (document.getElementById(\"db24401f-80f2-4cf1-ad3a-423c95f215ad\")) {\n",
       "                    Plotly.newPlot(\n",
       "                        'db24401f-80f2-4cf1-ad3a-423c95f215ad',\n",
       "                        [{\"cells\": {\"values\": [[\"$C_j base$\", 0, 4, 0, \"\", 14000.0], [\"$Var. Base$\", \"$X_3$\", \"$X_2$\", \"$X_5$\"], [\"$B_k$\", -36000.0, 3500.0, -27000.0, \"$z_j$\", \"$z_j - c_j$\"], [\"$X_1$\", -18.0, 1.0, -9.0, 4.0, 0.0], [\"$X_2$\", 0.0, 0.5, 0.0, 2.0, -2.0], [\"$X_3$\", 1.0, 0.0, 0.0, 0.0, 0.0], [\"$X_4$\", -2.0, 0.08333333333333333, -1.5, 0.3333333333333333, 0.3333333333333333], [\"$X_5$\", 0.0, 0.0, 1.0, 0.0, 0.0], [\"$Bk/A_{ij}$\", null, 7000.0, null]]}, \"header\": {\"values\": [\"\", \"\", \"$C_j$\", 4, 4, 0, 0, 0]}, \"type\": \"table\", \"uid\": \"f68b0fe9-074b-44f7-ae99-e0163d9b3351\"}],\n",
       "                        {\"margin\": {\"b\": 25, \"l\": 25, \"pad\": 2, \"r\": 25, \"t\": 25}},\n",
       "                        {\"plotlyServerURL\": \"https://plot.ly\", \"responsive\": true}\n",
       "                    ).then(function(){\n",
       "                            \n",
       "var gd = document.getElementById('db24401f-80f2-4cf1-ad3a-423c95f215ad');\n",
       "var x = new MutationObserver(function (mutations, observer) {{\n",
       "        var display = window.getComputedStyle(gd).display;\n",
       "        if (!display || display === 'none') {{\n",
       "            console.log([gd, 'removed!']);\n",
       "            Plotly.purge(gd);\n",
       "            observer.disconnect();\n",
       "        }}\n",
       "}});\n",
       "\n",
       "// Listen for the removal of the full notebook cells\n",
       "var notebookContainer = gd.closest('#notebook-container');\n",
       "if (notebookContainer) {{\n",
       "    x.observe(notebookContainer, {childList: true});\n",
       "}}\n",
       "\n",
       "// Listen for the clearing of the current output cell\n",
       "var outputEl = gd.closest('.output');\n",
       "if (outputEl) {{\n",
       "    x.observe(outputEl, {childList: true});\n",
       "}}\n",
       "\n",
       "                        })\n",
       "                };\n",
       "                });\n",
       "            </script>\n",
       "        </div>"
      ]
     },
     "metadata": {},
     "output_type": "display_data"
    },
    {
     "name": "stdout",
     "output_type": "stream",
     "text": [
      "Iteración 2\n"
     ]
    },
    {
     "data": {
      "application/vnd.plotly.v1+json": {
       "config": {
        "plotlyServerURL": "https://plot.ly"
       },
       "data": [
        {
         "cells": {
          "values": [
           [
            "$C_j base$",
            0,
            4,
            0,
            "",
            14000
           ],
           [
            "$Var. Base$",
            "$X_3$",
            "$X_2$",
            "$X_5$"
           ],
           [
            "$B_k$",
            -36000,
            3500,
            -27000,
            "$z_j$",
            "$z_j - c_j$"
           ],
           [
            "$X_1$",
            -18,
            1,
            -9,
            4,
            0
           ],
           [
            "$X_2$",
            0,
            0.5,
            0,
            2,
            -2
           ],
           [
            "$X_3$",
            1,
            0,
            0,
            0,
            0
           ],
           [
            "$X_4$",
            -2,
            0.08333333333333333,
            -1.5,
            0.3333333333333333,
            0.3333333333333333
           ],
           [
            "$X_5$",
            0,
            0,
            1,
            0,
            0
           ],
           [
            "$Bk/A_{ij}$",
            null,
            7000,
            null
           ]
          ]
         },
         "header": {
          "values": [
           "",
           "",
           "$C_j$",
           4,
           4,
           0,
           0,
           0
          ]
         },
         "type": "table",
         "uid": "a282cf73-a072-4d12-ab32-81138a325f8d"
        }
       ],
       "layout": {
        "margin": {
         "b": 25,
         "l": 25,
         "pad": 2,
         "r": 25,
         "t": 25
        }
       }
      },
      "text/html": [
       "<div>\n",
       "        \n",
       "        \n",
       "            <div id=\"b08ded26-46c5-4523-8ba3-c9d9d60e1c70\" class=\"plotly-graph-div\" style=\"height:525px; width:100%;\"></div>\n",
       "            <script type=\"text/javascript\">\n",
       "                require([\"plotly\"], function(Plotly) {\n",
       "                    window.PLOTLYENV=window.PLOTLYENV || {};\n",
       "                    window.PLOTLYENV.BASE_URL='https://plot.ly';\n",
       "                    \n",
       "                if (document.getElementById(\"b08ded26-46c5-4523-8ba3-c9d9d60e1c70\")) {\n",
       "                    Plotly.newPlot(\n",
       "                        'b08ded26-46c5-4523-8ba3-c9d9d60e1c70',\n",
       "                        [{\"cells\": {\"values\": [[\"$C_j base$\", 0, 4, 0, \"\", 14000.0], [\"$Var. Base$\", \"$X_3$\", \"$X_2$\", \"$X_5$\"], [\"$B_k$\", -36000.0, 3500.0, -27000.0, \"$z_j$\", \"$z_j - c_j$\"], [\"$X_1$\", -18.0, 1.0, -9.0, 4.0, 0.0], [\"$X_2$\", 0.0, 0.5, 0.0, 2.0, -2.0], [\"$X_3$\", 1.0, 0.0, 0.0, 0.0, 0.0], [\"$X_4$\", -2.0, 0.08333333333333333, -1.5, 0.3333333333333333, 0.3333333333333333], [\"$X_5$\", 0.0, 0.0, 1.0, 0.0, 0.0], [\"$Bk/A_{ij}$\", null, 7000.0, null]]}, \"header\": {\"values\": [\"\", \"\", \"$C_j$\", 4, 4, 0, 0, 0]}, \"type\": \"table\", \"uid\": \"a282cf73-a072-4d12-ab32-81138a325f8d\"}],\n",
       "                        {\"margin\": {\"b\": 25, \"l\": 25, \"pad\": 2, \"r\": 25, \"t\": 25}},\n",
       "                        {\"plotlyServerURL\": \"https://plot.ly\", \"responsive\": true}\n",
       "                    ).then(function(){\n",
       "                            \n",
       "var gd = document.getElementById('b08ded26-46c5-4523-8ba3-c9d9d60e1c70');\n",
       "var x = new MutationObserver(function (mutations, observer) {{\n",
       "        var display = window.getComputedStyle(gd).display;\n",
       "        if (!display || display === 'none') {{\n",
       "            console.log([gd, 'removed!']);\n",
       "            Plotly.purge(gd);\n",
       "            observer.disconnect();\n",
       "        }}\n",
       "}});\n",
       "\n",
       "// Listen for the removal of the full notebook cells\n",
       "var notebookContainer = gd.closest('#notebook-container');\n",
       "if (notebookContainer) {{\n",
       "    x.observe(notebookContainer, {childList: true});\n",
       "}}\n",
       "\n",
       "// Listen for the clearing of the current output cell\n",
       "var outputEl = gd.closest('.output');\n",
       "if (outputEl) {{\n",
       "    x.observe(outputEl, {childList: true});\n",
       "}}\n",
       "\n",
       "                        })\n",
       "                };\n",
       "                });\n",
       "            </script>\n",
       "        </div>"
      ]
     },
     "metadata": {},
     "output_type": "display_data"
    }
   ],
   "source": [
    "# Elementos auxiliares\n",
    "A_2 = np.zeros(A.shape)\n",
    "b_2 = np.zeros(b.shape)\n",
    "\n",
    "for s in range(1, iteraciones_simplex + 1):\n",
    "    # Nueva base:\n",
    "    base[min_b] = min_zjcj\n",
    "\n",
    "    # Fila pivote:\n",
    "    A_2[min_b, :] = A[min_b, :] / A[min_b, min_i]\n",
    "    b_2[min_b]    = b[min_b] / A[min_b, min_i]\n",
    "\n",
    "    # Recorrer filas excepto fila pivote:\n",
    "    range_rows = set(range(0, A.shape[0])) - set([min_b]) \n",
    "\n",
    "    # Loop:\n",
    "    for i in range_rows:\n",
    "        # Nueva columna bk:\n",
    "        b_2[i] = b[i] - b[min_b] * A[i, min_zjcj] / A[min_b, min_zjcj]\n",
    "    \n",
    "        for j in range(0, A.shape[1]):\n",
    "            # Nueva matriz Aij:\n",
    "            A_2[i,j] = A[i,j] - A[min_b, j] * A[i, min_zjcj] / A[min_b, min_zjcj]\n",
    "            \n",
    "    # Asignar a elementos principales:\n",
    "    A = A_2.copy()\n",
    "    b = b_2.copy()\n",
    "\n",
    "    # Recalcular zj y zj_cj:\n",
    "    zj = calcular_zj(c, base, A)\n",
    "    \n",
    "    zj_cj = calcular_zj_cj(zj, c)\n",
    "\n",
    "    min_zjcj = minimo_zj_cj(zj_cj)\n",
    "\n",
    "    bk_Aij = calcular_bk_Aij(b, A, min_zjcj)\n",
    "\n",
    "    costo_tot = calcular_costo_tot(c, base, b)\n",
    "    \n",
    "    # Visualizar_tabla:\n",
    "    print(f'Iteración {s}')\n",
    "    visualizar_tabla(variables, \n",
    "                 base, \n",
    "                 c.tolist(), \n",
    "                 b_2.tolist(),\n",
    "                 A_2.tolist(),\n",
    "                 zj.tolist(),\n",
    "                 zj_cj.tolist(),\n",
    "                 bk_Aij.tolist(),\n",
    "                 costo_tot)"
   ]
  },
  {
   "cell_type": "code",
   "execution_count": null,
   "metadata": {},
   "outputs": [],
   "source": []
  },
  {
   "cell_type": "code",
   "execution_count": null,
   "metadata": {},
   "outputs": [],
   "source": []
  },
  {
   "cell_type": "code",
   "execution_count": null,
   "metadata": {},
   "outputs": [],
   "source": []
  }
 ],
 "metadata": {
  "kernelspec": {
   "display_name": "Python 3",
   "language": "python",
   "name": "python3"
  },
  "language_info": {
   "codemirror_mode": {
    "name": "ipython",
    "version": 3
   },
   "file_extension": ".py",
   "mimetype": "text/x-python",
   "name": "python",
   "nbconvert_exporter": "python",
   "pygments_lexer": "ipython3",
   "version": "3.6.1"
  }
 },
 "nbformat": 4,
 "nbformat_minor": 2
}
