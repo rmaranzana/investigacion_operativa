{
 "cells": [
  {
   "cell_type": "markdown",
   "metadata": {},
   "source": [
    "# Método SIMPLEX"
   ]
  },
  {
   "cell_type": "code",
   "execution_count": 35,
   "metadata": {},
   "outputs": [
    {
     "data": {
      "text/html": [
       "        <script type=\"text/javascript\">\n",
       "        window.PlotlyConfig = {MathJaxConfig: 'local'};\n",
       "        if (window.MathJax) {MathJax.Hub.Config({SVG: {font: \"STIX-Web\"}});}\n",
       "        if (typeof require !== 'undefined') {\n",
       "        require.undef(\"plotly\");\n",
       "        requirejs.config({\n",
       "            paths: {\n",
       "                'plotly': ['https://cdn.plot.ly/plotly-latest.min']\n",
       "            }\n",
       "        });\n",
       "        require(['plotly'], function(Plotly) {\n",
       "            window._Plotly = Plotly;\n",
       "        });\n",
       "        }\n",
       "        </script>\n",
       "        "
      ]
     },
     "metadata": {},
     "output_type": "display_data"
    },
    {
     "data": {
      "application/vnd.plotly.v1+json": {
       "config": {
        "plotlyServerURL": "https://plot.ly"
       },
       "data": [
        {
         "cells": {
          "values": [
           [
            0,
            0,
            0,
            "",
            0
           ],
           [
            "$X_3$",
            "$X_4$",
            "$X_5$"
           ],
           [
            48000,
            42000,
            36000,
            "$z_j$",
            "$z_j - c_j$"
           ],
           [
            6,
            12,
            9,
            0,
            -4
           ],
           [
            12,
            6,
            9,
            0,
            -4
           ],
           [
            1,
            0,
            0,
            0,
            0
           ],
           [
            0,
            1,
            0,
            0,
            0
           ],
           [
            0,
            0,
            1,
            0,
            0
           ],
           [
            8000,
            3500,
            4000
           ]
          ]
         },
         "header": {
          "values": [
           "$C_j base$",
           "$Var. Base$",
           "$B_k$",
           "$X_1$",
           "$X_2$",
           "$X_3$",
           "$X_4$",
           "$X_5$",
           "$Bk/A_{ij}$"
          ]
         },
         "type": "table",
         "uid": "035dbdef-3d6f-4521-8268-782aa57d6a63"
        }
       ],
       "layout": {}
      },
      "text/html": [
       "<div>\n",
       "        \n",
       "        \n",
       "            <div id=\"f4a5ec37-be6b-406c-941a-a3b4d6641849\" class=\"plotly-graph-div\" style=\"height:525px; width:100%;\"></div>\n",
       "            <script type=\"text/javascript\">\n",
       "                require([\"plotly\"], function(Plotly) {\n",
       "                    window.PLOTLYENV=window.PLOTLYENV || {};\n",
       "                    window.PLOTLYENV.BASE_URL='https://plot.ly';\n",
       "                    \n",
       "                if (document.getElementById(\"f4a5ec37-be6b-406c-941a-a3b4d6641849\")) {\n",
       "                    Plotly.newPlot(\n",
       "                        'f4a5ec37-be6b-406c-941a-a3b4d6641849',\n",
       "                        [{\"cells\": {\"values\": [[0, 0, 0, \"\", 0], [\"$X_3$\", \"$X_4$\", \"$X_5$\"], [48000, 42000, 36000, \"$z_j$\", \"$z_j - c_j$\"], [6, 12, 9, 0, -4], [12, 6, 9, 0, -4], [1, 0, 0, 0, 0], [0, 1, 0, 0, 0], [0, 0, 1, 0, 0], [8000, 3500, 4000]]}, \"header\": {\"values\": [\"$C_j base$\", \"$Var. Base$\", \"$B_k$\", \"$X_1$\", \"$X_2$\", \"$X_3$\", \"$X_4$\", \"$X_5$\", \"$Bk/A_{ij}$\"]}, \"type\": \"table\", \"uid\": \"035dbdef-3d6f-4521-8268-782aa57d6a63\"}],\n",
       "                        {},\n",
       "                        {\"plotlyServerURL\": \"https://plot.ly\", \"responsive\": true}\n",
       "                    ).then(function(){\n",
       "                            \n",
       "var gd = document.getElementById('f4a5ec37-be6b-406c-941a-a3b4d6641849');\n",
       "var x = new MutationObserver(function (mutations, observer) {{\n",
       "        var display = window.getComputedStyle(gd).display;\n",
       "        if (!display || display === 'none') {{\n",
       "            console.log([gd, 'removed!']);\n",
       "            Plotly.purge(gd);\n",
       "            observer.disconnect();\n",
       "        }}\n",
       "}});\n",
       "\n",
       "// Listen for the removal of the full notebook cells\n",
       "var notebookContainer = gd.closest('#notebook-container');\n",
       "if (notebookContainer) {{\n",
       "    x.observe(notebookContainer, {childList: true});\n",
       "}}\n",
       "\n",
       "// Listen for the clearing of the current output cell\n",
       "var outputEl = gd.closest('.output');\n",
       "if (outputEl) {{\n",
       "    x.observe(outputEl, {childList: true});\n",
       "}}\n",
       "\n",
       "                        })\n",
       "                };\n",
       "                });\n",
       "            </script>\n",
       "        </div>"
      ]
     },
     "metadata": {},
     "output_type": "display_data"
    }
   ],
   "source": [
    "from plotly import graph_objs as go\n",
    "import plotly.offline as py\n",
    "py.init_notebook_mode(connected=True)\n",
    "\n",
    "\n",
    "def visualizar_tabla_simplex(vars, base, cj_base, bk, vals_slack, zj, zj_cj, bk_aj, costo_total):\n",
    "    # Construir columnas:\n",
    "    header_values = ['$C_j base$', '$Var. Base$', '$B_k$'] + vars + ['$Bk/A_{ij}$']\n",
    "    col_i = cj_base + [''] + [costo_total]\n",
    "    col_iii = bk + ['$z_j$', '$z_j - c_j$']\n",
    "    rest_cols = [col + [zj[i]] + [zj_cj[i]] for i, col in enumerate(vals_slack)]\n",
    "    cells_values = [col_i, [vars[i] for i in base], col_iii] + rest_cols + [bk_aj]\n",
    "    \n",
    "    # Construir y printear tabla:\n",
    "    fig = go.Figure(data=[go.Table(header=dict(values=header_values),\n",
    "                                   cells=dict(values=cells_values))\n",
    "                         ])\n",
    "    fig.show()\n",
    "    \n",
    "visualizar_tabla_simplex(['$X_1$', '$X_2$', '$X_3$', '$X_4$', '$X_5$'], \n",
    "                         [2, 3, 4], \n",
    "                         [0, 0, 0], \n",
    "                         [48000, 42000, 36000], \n",
    "                         [[6, 12, 9], [12, 6, 9], [1, 0, 0], [0, 1, 0], [0, 0, 1]],\n",
    "                         [0, 0, 0, 0, 0],\n",
    "                         [-4, -4, 0, 0, 0],\n",
    "                         [8000, 3500, 4000],\n",
    "                         0)"
   ]
  },
  {
   "cell_type": "code",
   "execution_count": null,
   "metadata": {},
   "outputs": [],
   "source": []
  },
  {
   "cell_type": "code",
   "execution_count": null,
   "metadata": {},
   "outputs": [],
   "source": []
  }
 ],
 "metadata": {
  "kernelspec": {
   "display_name": "Python 3",
   "language": "python",
   "name": "python3"
  }
 },
 "nbformat": 4,
 "nbformat_minor": 2
}
