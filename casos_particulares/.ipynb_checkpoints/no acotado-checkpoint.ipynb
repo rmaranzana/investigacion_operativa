{
 "cells": [
  {
   "cell_type": "code",
   "execution_count": 2,
   "metadata": {},
   "outputs": [
    {
     "name": "stdout",
     "output_type": "stream",
     "text": [
      "Unbounded\n",
      "x = 0.00\n",
      "y = 0.00\n",
      "0.0\n"
     ]
    }
   ],
   "source": [
    "import pulp\n",
    "\n",
    "lp01 = pulp.LpProblem(\"problema no acotado\", pulp.LpMaximize)\n",
    "\n",
    "# Variables:\n",
    "x = pulp.LpVariable('x', lowBound=0, cat='Continuous')\n",
    "y = pulp.LpVariable('y', lowBound=0, cat='Continuous')\n",
    "\n",
    "# Función objetivo:\n",
    "lp01 += x + y, \"Z\"\n",
    "\n",
    "# Restricciones:\n",
    "lp01 += -x + y <= 2\n",
    "lp01 +=  x - y >= 2\n",
    "\n",
    "lp01.solve()\n",
    "pulp.LpStatus[lp01.status]\n",
    "\n",
    "print(pulp.LpStatus[lp01.status])\n",
    "\n",
    "for variable in lp01.variables():\n",
    "    print(\"%s = %.2f\" % (variable.name, variable.varValue))\n",
    "print(pulp.value(lp01.objective))"
   ]
  }
 ],
 "metadata": {
  "kernelspec": {
   "display_name": "Python 3",
   "language": "python",
   "name": "python3"
  },
  "language_info": {
   "codemirror_mode": {
    "name": "ipython",
    "version": 3
   },
   "file_extension": ".py",
   "mimetype": "text/x-python",
   "name": "python",
   "nbconvert_exporter": "python",
   "pygments_lexer": "ipython3",
   "version": "3.6.1"
  }
 },
 "nbformat": 4,
 "nbformat_minor": 2
}
