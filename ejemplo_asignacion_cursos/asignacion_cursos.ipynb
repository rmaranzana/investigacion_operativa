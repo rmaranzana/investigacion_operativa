{
 "cells": [
  {
   "cell_type": "markdown",
   "metadata": {},
   "source": [
    "# Modelo de optimización de horarios de cursada simplificado:"
   ]
  },
  {
   "cell_type": "code",
   "execution_count": 147,
   "metadata": {},
   "outputs": [
    {
     "name": "stdout",
     "output_type": "stream",
     "text": [
      "Optimal\n"
     ]
    }
   ],
   "source": [
    "import pulp\n",
    "import numpy.random as rnd\n",
    "import sys\n",
    "import numpy\n",
    "numpy.set_printoptions(threshold=sys.maxsize)\n",
    "import pandas\n",
    "\n",
    "#====> MODELO DE OPTIMIZACIÓN\n",
    "lp = pulp.LpProblem(\"matching_cursos\", pulp.LpMaximize)\n",
    "\n",
    "#====> PARÁMETROS\n",
    "# Nota: Acá hay oportunidad de mejora con técnicas de estadística, ya que fue considerada una distribución \n",
    "# uniforme y eso no es real.\n",
    "\n",
    "num_materias = 10\n",
    "num_alumnos = 50\n",
    "##########\n",
    "max_t_cursada = 8\n",
    "max_mat_desapr = 10\n",
    "num_modulos = 60\n",
    "\n",
    "# Cálculo de peso académico:\n",
    "# Cantidad de materias aprobadas:\n",
    "cma_vector = rnd.randint(num_materias + 1, size = num_alumnos)\n",
    "# Años de antiguedad en la facultad:\n",
    "aa_vector = rnd.randint(max_t_cursada + 1, size = num_alumnos)\n",
    "# Cantidad de materias desaprobadas:\n",
    "cmd_vector = rnd.randint(max_mat_desapr + 1, size = num_alumnos)\n",
    "# Vector de peso académico:\n",
    "peso_alumno = 11 * cma_vector + 5 * aa_vector + 3 * cmd_vector\n",
    "\n",
    "# Nota: En realidad, dada que todas las distribuciones se consideraron uniformes, el peso\n",
    "# también es uniforme y si ese supuesto fuera cierto, podría directamente calcularse\n",
    "# el peso como una uniforme. Este supuesto debe estudiarse en profundidad.\n",
    "\n",
    "# Cálculo de capacidad máxima por curso:\n",
    "q_curso = rnd.randint(low=25, high=50, size=num_materias)\n",
    "\n",
    "# Horarios de cada materia (aleatorios):\n",
    "horarios = np.zeros((num_materias, num_modulos))\n",
    "for c in range(0, num_materias):\n",
    "    n_modulos_por_bloque = rnd.randint(low=1, high=4)\n",
    "    n_bloques = rnd.randint(low=1, high=4)\n",
    "    rnd_module = rnd.randint(num_modulos-n_modulos_por_bloque, size=n_bloques)\n",
    "\n",
    "    for inicio_bloque in rnd_module:\n",
    "        horarios[c, inicio_bloque:inicio_bloque+2] = 1\n",
    "\n",
    "# Requerimientos de cursada de cada alumno:\n",
    "req = rnd.choice([1, 0], size=(num_alumnos, num_materias), p=[1/6, 5/6])\n",
    "\n",
    "#====> SETS\n",
    "a_set = list(range(0, num_alumnos))\n",
    "c_set = list(range(0, num_materias))\n",
    "m_set = list(range(0, num_modulos))\n",
    "\n",
    "#====> VARIABLES\n",
    "X = pulp.LpVariable.dicts('X', (a_set, c_set), 0, 1, cat='Binary') # Variable de asignación alumno 'a' a curso 'c'.\n",
    "\n",
    "#====> FUNCIÓN OBJETIVO\n",
    "Z = [peso_alumno[a] * X[a][c] for a in a_set for c in c_set]\n",
    "lp += pulp.lpSum(pulp.lpSum(Z)), 'Z'\n",
    "\n",
    "# #====> RESTRICCIONES\n",
    "## Suma de alumnos asignados al curso 'c' menor o igual a su capacidad:\n",
    "for c in c_set:\n",
    "    lp += pulp.lpSum([X[a][c] for a in a_set]) <= q_curso[c]\n",
    "    \n",
    "## Requerimiento del alumno 'c' al curso 'a' relacionado a la decisión de la variable:\n",
    "for a in a_set: \n",
    "    for c in c_set:\n",
    "        lp += X[a][c] <= req[a][c]\n",
    "    \n",
    "## Los módulos de cáda alumno solo pueden ser ocupados por una materia.\n",
    "for a in a_set:\n",
    "    for m in m_set:\n",
    "        lp += pulp.lpSum([horarios[c][m] * X[a][c] for c in c_set]) <= 1\n",
    "\n",
    "#====> SOLUCIÓN\n",
    "lp.solve()\n",
    "print(pulp.LpStatus[lp.status])\n",
    "\n",
    "# for variable in lp.variables():\n",
    "#     print(\"%s = %.2f\" % (variable.name, variable.varValue))\n",
    "# print(pulp.value(lp.objective))"
   ]
  },
  {
   "cell_type": "markdown",
   "metadata": {},
   "source": [
    "# Gráfico de horarios para tres alumnos aleatorios:"
   ]
  },
  {
   "cell_type": "code",
   "execution_count": 148,
   "metadata": {},
   "outputs": [
    {
     "data": {
      "image/png": "[encoded data removed]",
      "text/plain": [
       "<matplotlib.figure.Figure at 0x1f7c4043eb8>"
      ]
     },
     "metadata": {
      "needs_background": "light"
     },
     "output_type": "display_data"
    }
   ],
   "source": [
    "import matplotlib.pyplot as plt\n",
    "from matplotlib.colors import ListedColormap\n",
    "import numpy as np\n",
    "\n",
    "fig, axs = plt.subplots(1, 3, figsize=(10, 20))\n",
    "fig.subplots_adjust(hspace = .5, wspace=0.2)\n",
    "\n",
    "for ax, alumno in zip(axs, rnd.choice(a_set, 3, replace=False)):\n",
    "    aa = np.zeros((num_modulos))\n",
    "    for c in c_set:\n",
    "        if X[alumno][c].varValue:\n",
    "            aa = aa + horarios[c]\n",
    "    aa_array = np.array(aa)\n",
    "\n",
    "    # Mostrar matriz:\n",
    "    ax.matshow(aa_array.reshape((5, 12)).transpose(), cmap=ListedColormap(['w', 'g']))\n",
    "    \n",
    "    # Major ticks\n",
    "    ax.set_xticks(np.arange(0, 5, 1));\n",
    "    ax.set_yticks(np.arange(0, 12, 1));\n",
    "\n",
    "    # Labels for major ticks\n",
    "    dias = ['Lu', 'Ma', 'Mi', 'Ju', 'Vi']\n",
    "    ax.set_xticklabels(dias)\n",
    "    ax.set_yticklabels(np.arange(1, 13, 1));\n",
    "\n",
    "    # Minor ticks\n",
    "    ax.set_xticks(np.arange(-.5, 5, 1), minor=True);\n",
    "    ax.set_yticks(np.arange(-.5, 12, 1), minor=True);\n",
    "    \n",
    "    ax.grid(which='minor', color='k', linestyle='-', linewidth=0.5)\n",
    "\n",
    "plt.show()"
   ]
  },
  {
   "cell_type": "code",
   "execution_count": null,
   "metadata": {},
   "outputs": [],
   "source": []
  }
 ],
 "metadata": {
  "kernelspec": {
   "display_name": "Python 3",
   "language": "python",
   "name": "python3"
  },
  "language_info": {
   "codemirror_mode": {
    "name": "ipython",
    "version": 3
   },
   "file_extension": ".py",
   "mimetype": "text/x-python",
   "name": "python",
   "nbconvert_exporter": "python",
   "pygments_lexer": "ipython3",
   "version": "3.6.1"
  }
 },
 "nbformat": 4,
 "nbformat_minor": 2
}
